{
  "cells": [
    {
      "cell_type": "markdown",
      "source": [
        "# Setting up Pyspark environment"
      ],
      "metadata": {
        "id": "-1a28Fdi1pTt"
      }
    },
    {
      "cell_type": "code",
      "execution_count": null,
      "metadata": {
        "id": "htrlZ155ZED3"
      },
      "outputs": [],
      "source": [
        "!apt-get install openjdk-8-jdk-headless -qq > /dev/null\n",
        "!wget -q https://downloads.apache.org/spark/spark-3.1.2/spark-3.1.2-bin-hadoop3.2.tgz \n",
        "!tar -xvf spark-3.1.2-bin-hadoop3.2.tgz\n",
        "!pip install -q findspark\n",
        "!pip install pyspark\n"
      ]
    },
    {
      "cell_type": "markdown",
      "source": [
        "# Initializing Spark session"
      ],
      "metadata": {
        "id": "rzgaPAFh1uq1"
      }
    },
    {
      "cell_type": "code",
      "execution_count": 2,
      "metadata": {
        "id": "j_FxfkGHZJmv"
      },
      "outputs": [],
      "source": [
        "from pyspark.sql import SparkSession, functions as f\n",
        "spark = SparkSession.builder.appName(\"Movies_Metrics\").getOrCreate()\n"
      ]
    },
    {
      "cell_type": "markdown",
      "metadata": {
        "id": "vfXGSg8cfrdP"
      },
      "source": [
        "# Getting data from raw files \n"
      ]
    },
    {
      "cell_type": "code",
      "execution_count": 3,
      "metadata": {
        "id": "OCoQ7uvMbQt0"
      },
      "outputs": [],
      "source": [
        "data = \"https://raw.githubusercontent.com/justmarkham/pandas-videos/master/data/u.data\"\n",
        "items = \"https://raw.githubusercontent.com/justmarkham/pandas-videos/master/data/u.item\"\n",
        "users = \"https://raw.githubusercontent.com/justmarkham/pandas-videos/master/data/u.user\""
      ]
    },
    {
      "cell_type": "markdown",
      "source": [
        "# Consuming data with Pandas library"
      ],
      "metadata": {
        "id": "grJBnZum2O7k"
      }
    },
    {
      "cell_type": "code",
      "execution_count": 4,
      "metadata": {
        "id": "ABpgJMfpcFQe"
      },
      "outputs": [],
      "source": [
        "import pandas as pd\n",
        "from pandas._libs import index\n",
        "df_data = pd.read_csv(data, sep=\"\\t\", names=[\"userID\", \"itemID\", \"rating\", \"timestamp\"])\n",
        "df_items = pd.read_csv(items, sep=\"|\", \n",
        "                       usecols=range(3), names=[\"movieID\", \"movieTitle\", \"releaseDate\"]).astype(\"str\")\n",
        "df_users= pd.read_csv(users, sep=\"|\", names=[\"userID\", \"age\", \"gender\", \"occupation\", \"zipCode\"])\n"
      ]
    },
    {
      "cell_type": "markdown",
      "source": [
        "# Transforming Panas DFs into Spark DFs "
      ],
      "metadata": {
        "id": "am28TVeX2cI8"
      }
    },
    {
      "cell_type": "code",
      "execution_count": 5,
      "metadata": {
        "id": "9TVHSVMpcLCL"
      },
      "outputs": [],
      "source": [
        "spark_udata = spark.createDataFrame(df_data)\n",
        "spark_item = spark.createDataFrame(df_items)\n",
        "spark_users = spark.createDataFrame(df_users)"
      ]
    },
    {
      "cell_type": "markdown",
      "metadata": {
        "id": "O2jVjBJFl6cm"
      },
      "source": [
        "# METRICS\n",
        "\n",
        "\n"
      ]
    },
    {
      "cell_type": "markdown",
      "metadata": {
        "id": "s3wdY6gMLFHm"
      },
      "source": [
        "### Finding the 3 Users who rated more movies\n"
      ]
    },
    {
      "cell_type": "code",
      "execution_count": 6,
      "metadata": {
        "id": "j5jIpXthGeuU"
      },
      "outputs": [],
      "source": [
        "subdf = spark_udata.groupBy(\"userID\").agg(f.count(\"*\").alias(\"amount\"))"
      ]
    },
    {
      "cell_type": "code",
      "execution_count": null,
      "metadata": {
        "id": "qwoe4hmnFRPw"
      },
      "outputs": [],
      "source": [
        "subdf.sort(\"amount\", ascending=False).show(3)"
      ]
    },
    {
      "cell_type": "markdown",
      "metadata": {
        "id": "-5cfwb-wQdPW"
      },
      "source": [
        "### Finding the top 3 oldest movies"
      ]
    },
    {
      "cell_type": "code",
      "execution_count": null,
      "metadata": {
        "id": "eQUu2bdeKsPW"
      },
      "outputs": [],
      "source": [
        "dtf = spark_item.select(\"movieTitle\",f.to_date(spark_item[\"releaseDate\"], \"d-MMM-yyyy\").alias(\"releaseDate\"))"
      ]
    },
    {
      "cell_type": "code",
      "execution_count": null,
      "metadata": {
        "id": "QNJL1Ch8OmgT"
      },
      "outputs": [],
      "source": [
        "dtf.sort(\"releaseDate\",ascending=True).filter(dtf.releaseDate.isNotNull()).show(3)"
      ]
    },
    {
      "cell_type": "markdown",
      "metadata": {
        "id": "iTD-eoENlOX0"
      },
      "source": [
        "### Finding the details of the user who rated more movies \n",
        "\n",
        "\n"
      ]
    },
    {
      "cell_type": "code",
      "execution_count": null,
      "metadata": {
        "id": "8V-wdCewVcK6"
      },
      "outputs": [],
      "source": [
        "the_user = spark_udata.groupBy(\"userID\").agg(f.count(\"*\").alias(\"cuentas\")).sort(\"cuentas\", ascending=False).limit(1)"
      ]
    },
    {
      "cell_type": "code",
      "execution_count": null,
      "metadata": {
        "id": "KvsTKtqTlYJ8"
      },
      "outputs": [],
      "source": [
        "the_user.join(spark_users, \"userID\").show()"
      ]
    },
    {
      "cell_type": "markdown",
      "metadata": {
        "id": "Tv1Flu_dsAyA"
      },
      "source": [
        "### Finding the top 3 movie which was the most rated"
      ]
    },
    {
      "cell_type": "code",
      "execution_count": 18,
      "metadata": {
        "id": "MJxXAjq3o239"
      },
      "outputs": [],
      "source": [
        "the_item = spark_udata.groupBy(\"itemID\").agg(f.count(\"*\").alias(\"amount of ratings\")).sort(\"amount of ratings\", ascending=False).limit(3)"
      ]
    },
    {
      "cell_type": "code",
      "execution_count": null,
      "metadata": {
        "id": "38LeU6pnr7P6"
      },
      "outputs": [],
      "source": [
        "the_item.join(spark_item,the_item.itemID == spark_item.movieID).show()"
      ]
    },
    {
      "cell_type": "markdown",
      "source": [
        "### Finding amount of people by gender"
      ],
      "metadata": {
        "id": "doRGPGsYIIDj"
      }
    },
    {
      "cell_type": "code",
      "source": [
        "spark_users.groupBy(\"gender\").count().orderBy(\"count\").show()"
      ],
      "metadata": {
        "id": "7fbQhtyvpZXC"
      },
      "execution_count": null,
      "outputs": []
    },
    {
      "cell_type": "markdown",
      "source": [
        "### The most common occupations among women"
      ],
      "metadata": {
        "id": "umCw90XbKX4t"
      }
    },
    {
      "cell_type": "code",
      "source": [
        "ocp_stats = spark_users.filter(f.lower(spark_users.gender) == 'f').groupBy(\"occupation\").count().orderBy(\"count\", ascending=False)"
      ],
      "metadata": {
        "id": "NbQ9ueWsIOKT"
      },
      "execution_count": 10,
      "outputs": []
    },
    {
      "cell_type": "code",
      "source": [
        "ocp_stats.withColumn(\"occupations\", ocp_stats.occupation).show()"
      ],
      "metadata": {
        "id": "HlG7qb9gJF_i"
      },
      "execution_count": null,
      "outputs": []
    },
    {
      "cell_type": "markdown",
      "source": [
        "### Finding the most common occupations among men\n"
      ],
      "metadata": {
        "id": "dvBa9Hwj8IQn"
      }
    },
    {
      "cell_type": "code",
      "source": [
        "ocp_stats = spark_users.filter(f.lower(spark_users.gender) == 'm').groupBy(\"occupation\").count().orderBy(\"count\", ascending=False)"
      ],
      "metadata": {
        "id": "rO2ItGb_8PHv"
      },
      "execution_count": 16,
      "outputs": []
    },
    {
      "cell_type": "code",
      "source": [
        "ocp_stats.withColumn(\"occupations\", ocp_stats.occupation).show()"
      ],
      "metadata": {
        "id": "u-kZQ6248Rqy"
      },
      "execution_count": null,
      "outputs": []
    },
    {
      "cell_type": "markdown",
      "source": [
        "### Using Broadcast variable as a look-up table and defining an UDF to get the movie names"
      ],
      "metadata": {
        "id": "qWUqgOV4fF9x"
      }
    },
    {
      "cell_type": "code",
      "source": [
        "most_popular = [{'movieID': 50, 'movieTitle': 'Star Wars (1977)'},{'movieID': 56, 'movieTitle': 'Pulp Fiction (1994)'}, ]"
      ],
      "metadata": {
        "id": "yTwKoZ21glwd"
      },
      "execution_count": 28,
      "outputs": []
    },
    {
      "cell_type": "code",
      "source": [
        "my_var = spark.sparkContext.broadcast(most_popular)"
      ],
      "metadata": {
        "id": "F16Fkd7_iHDS"
      },
      "execution_count": 29,
      "outputs": []
    },
    {
      "cell_type": "code",
      "source": [
        "results = spark_udata.groupBy('itemID').count().withColumnRenamed('count', 'total').sort('total', ascending=False).limit(20)"
      ],
      "metadata": {
        "id": "LhCX5AdBiW_a"
      },
      "execution_count": 30,
      "outputs": []
    },
    {
      "cell_type": "code",
      "source": [
        "def my_func(idx):\n",
        "  for i in my_var.value:\n",
        "    if i['movieID'] == idx:\n",
        "      return i['movieTitle']\n",
        "  return None\n"
      ],
      "metadata": {
        "id": "j-wphfQI97n1"
      },
      "execution_count": 31,
      "outputs": []
    },
    {
      "cell_type": "code",
      "source": [
        "lookup = f.udf(my_func)"
      ],
      "metadata": {
        "id": "qlxOtDnX-FmM"
      },
      "execution_count": 32,
      "outputs": []
    },
    {
      "cell_type": "code",
      "source": [
        "results.select('itemID', 'total', lookup(f.col('itemID'))).show()"
      ],
      "metadata": {
        "id": "8OcT5v4F-K2o"
      },
      "execution_count": null,
      "outputs": []
    }
  ],
  "metadata": {
    "colab": {
      "name": "Copy of IMDB_STATS.ipynb",
      "provenance": []
    },
    "kernelspec": {
      "display_name": "Python 3",
      "name": "python3"
    },
    "language_info": {
      "name": "python"
    }
  },
  "nbformat": 4,
  "nbformat_minor": 0
}