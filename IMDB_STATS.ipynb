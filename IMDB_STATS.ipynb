{
  "cells": [
    {
      "cell_type": "markdown",
      "metadata": {
        "id": "yQHbYORhllKy"
      },
      "source": [
        "# THIS NOTEBOOK IS MEANT TO GET USEFUL METRICS ABOUT IMDB DATA"
      ]
    },
    {
      "cell_type": "code",
      "execution_count": null,
      "metadata": {
        "id": "htrlZ155ZED3"
      },
      "outputs": [],
      "source": [
        "!apt-get install openjdk-8-jdk-headless -qq > /dev/null\n",
        "!wget -q https://downloads.apache.org/spark/spark-3.1.2/spark-3.1.2-bin-hadoop3.2.tgz \n",
        "!tar -xvf spark-3.1.2-bin-hadoop3.2.tgz\n",
        "!pip install -q findspark\n",
        "!pip install pyspark\n",
        "!pip install boto3"
      ]
    },
    {
      "cell_type": "code",
      "execution_count": null,
      "metadata": {
        "id": "j_FxfkGHZJmv"
      },
      "outputs": [],
      "source": [
        "from pyspark.sql import SparkSession, functions as f\n",
        "import pandas as pd\n",
        "spark = SparkSession.builder.appName(\"Movies_Metrics\").getOrCreate()\n"
      ]
    },
    {
      "cell_type": "markdown",
      "metadata": {
        "id": "vfXGSg8cfrdP"
      },
      "source": [
        "# TABLES SCHEMAS\n",
        "u.data     --  user id | item id | rating | timestamp. \n",
        "\n",
        "u.item     -- movie id | movie title | release date | video release date |\n",
        "\n",
        "u.user     -- user id | age | gender | occupation | zip code\n"
      ]
    },
    {
      "cell_type": "code",
      "execution_count": null,
      "metadata": {
        "id": "OCoQ7uvMbQt0"
      },
      "outputs": [],
      "source": [
        "data = \"https://raw.githubusercontent.com/justmarkham/pandas-videos/master/data/u.data\"\n",
        "items = \"https://raw.githubusercontent.com/justmarkham/pandas-videos/master/data/u.item\"\n",
        "users = \"https://raw.githubusercontent.com/justmarkham/pandas-videos/master/data/u.user\""
      ]
    },
    {
      "cell_type": "code",
      "execution_count": null,
      "metadata": {
        "id": "ABpgJMfpcFQe"
      },
      "outputs": [],
      "source": [
        "from pandas._libs import index\n",
        "df_data = pd.read_csv(data, sep=\"\\t\", names=[\"userID\", \"itemID\", \"rating\", \"timestamp\"])\n",
        "df_items = pd.read_csv(items, sep=\"|\", \n",
        "                       usecols=range(3), names=[\"movieID\", \"movieTitle\", \"releaseDate\"]).astype(\"str\")\n",
        "df_users= pd.read_csv(users, sep=\"|\", names=[\"userID\", \"age\", \"gender\", \"occupation\", \"zipCode\"])\n"
      ]
    },
    {
      "cell_type": "code",
      "execution_count": null,
      "metadata": {
        "id": "9TVHSVMpcLCL"
      },
      "outputs": [],
      "source": [
        "spark_udata = spark.createDataFrame(df_data)\n",
        "spark_item = spark.createDataFrame(df_items)\n",
        "spark_users = spark.createDataFrame(df_users)"
      ]
    },
    {
      "cell_type": "markdown",
      "metadata": {
        "id": "O2jVjBJFl6cm"
      },
      "source": [
        "# START PROJECT \n",
        "\n",
        "\n"
      ]
    },
    {
      "cell_type": "markdown",
      "metadata": {
        "id": "s3wdY6gMLFHm"
      },
      "source": [
        "Finding the three Users who rated more movies"
      ]
    },
    {
      "cell_type": "code",
      "execution_count": null,
      "metadata": {
        "id": "j5jIpXthGeuU"
      },
      "outputs": [],
      "source": [
        "subdf = spark_udata.groupBy(\"userID\").agg(f.count(\"*\").alias(\"cuentas\"))"
      ]
    },
    {
      "cell_type": "code",
      "execution_count": null,
      "metadata": {
        "id": "qwoe4hmnFRPw"
      },
      "outputs": [],
      "source": [
        "subdf.sort(\"cuentas\", ascending=False).show(3)"
      ]
    },
    {
      "cell_type": "markdown",
      "metadata": {
        "id": "-5cfwb-wQdPW"
      },
      "source": [
        "Finding the oldest movies dates"
      ]
    },
    {
      "cell_type": "code",
      "execution_count": null,
      "metadata": {
        "id": "eQUu2bdeKsPW"
      },
      "outputs": [],
      "source": [
        "dtf = spark_item.select(f.to_date(spark_item[\"releaseDate\"], \"d-MMM-yyyy\").alias(\"fecha\"))"
      ]
    },
    {
      "cell_type": "code",
      "execution_count": null,
      "metadata": {
        "colab": {
          "base_uri": "https://localhost:8080/"
        },
        "id": "QNJL1Ch8OmgT",
        "outputId": "bc69b498-94a2-4040-802a-cba8c7b16ae2"
      },
      "outputs": [
        {
          "name": "stdout",
          "output_type": "stream",
          "text": [
            "+----------+\n",
            "|     fecha|\n",
            "+----------+\n",
            "|1922-01-01|\n",
            "|1926-01-01|\n",
            "|1930-01-01|\n",
            "+----------+\n",
            "only showing top 3 rows\n",
            "\n"
          ]
        }
      ],
      "source": [
        "dtf.sort(\"fecha\",ascending=True).filter(dtf.fecha.isNotNull()).show(3)"
      ]
    },
    {
      "cell_type": "markdown",
      "metadata": {
        "id": "iTD-eoENlOX0"
      },
      "source": [
        "Finding the user details of the user who rated more movies \n",
        "\n",
        "\n"
      ]
    },
    {
      "cell_type": "code",
      "execution_count": null,
      "metadata": {
        "id": "8V-wdCewVcK6"
      },
      "outputs": [],
      "source": [
        "the_user = spark_udata.groupBy(\"userID\").agg(f.count(\"*\").alias(\"cuentas\")).sort(\"cuentas\", ascending=False).limit(1)"
      ]
    },
    {
      "cell_type": "code",
      "execution_count": null,
      "metadata": {
        "id": "KvsTKtqTlYJ8"
      },
      "outputs": [],
      "source": [
        "the_user.join(spark_users, \"userID\").show()"
      ]
    },
    {
      "cell_type": "code",
      "execution_count": null,
      "metadata": {
        "id": "xBFeNfy8mnEm"
      },
      "outputs": [],
      "source": [
        "spark_users.filter(spark_users[\"userID\"]==405).show()"
      ]
    },
    {
      "cell_type": "markdown",
      "metadata": {
        "id": "Tv1Flu_dsAyA"
      },
      "source": [
        "Finding the movie which was most rated"
      ]
    },
    {
      "cell_type": "code",
      "execution_count": null,
      "metadata": {
        "id": "MJxXAjq3o239"
      },
      "outputs": [],
      "source": [
        "the_item = spark_udata.groupBy(\"itemID\").agg(f.count(\"*\").alias(\"cuentas\")).sort(\"cuentas\", ascending=False).limit(2)"
      ]
    },
    {
      "cell_type": "code",
      "execution_count": null,
      "metadata": {
        "id": "38LeU6pnr7P6"
      },
      "outputs": [],
      "source": [
        "the_item.join(spark_item,the_item.itemID == spark_item.movieID).show()"
      ]
    },
    {
      "cell_type": "markdown",
      "metadata": {
        "id": "GFMKJq97s7yU"
      },
      "source": [
        "USING THE DISTINCT FX"
      ]
    },
    {
      "cell_type": "code",
      "execution_count": null,
      "metadata": {
        "id": "qZu-3thftGy7"
      },
      "outputs": [],
      "source": [
        "#spark_udata.countDistinct()\n",
        "spark_udata.select(spark_udata.itemID).distinct().count()\n"
      ]
    },
    {
      "cell_type": "markdown",
      "source": [
        "# Finding metrics for Gender and occupation"
      ],
      "metadata": {
        "id": "doRGPGsYIIDj"
      }
    },
    {
      "cell_type": "code",
      "source": [
        "spark_users.groupBy(\"gender\").count().orderBy(\"count\").show()"
      ],
      "metadata": {
        "id": "7fbQhtyvpZXC"
      },
      "execution_count": null,
      "outputs": []
    },
    {
      "cell_type": "markdown",
      "source": [
        "The most common occupations among women"
      ],
      "metadata": {
        "id": "umCw90XbKX4t"
      }
    },
    {
      "cell_type": "code",
      "source": [
        "ocp_stats = spark_users.filter(f.lower(spark_users.gender) == 'f').groupBy(\"occupation\").count().orderBy(\"count\", ascending=False)"
      ],
      "metadata": {
        "id": "NbQ9ueWsIOKT"
      },
      "execution_count": null,
      "outputs": []
    },
    {
      "cell_type": "code",
      "source": [
        "ocp_stats.withColumn(\"perce\", ocp_stats.occupation).show()"
      ],
      "metadata": {
        "id": "HlG7qb9gJF_i"
      },
      "execution_count": null,
      "outputs": []
    },
    {
      "cell_type": "markdown",
      "source": [
        "# THE TOP 10 RATED MOVIES"
      ],
      "metadata": {
        "id": "o-7wpWoFFQI7"
      }
    },
    {
      "cell_type": "code",
      "source": [
        "joined = spark_udata.join(spark_item, spark_item[\"movieID\"]==spark_udata[\"itemID\"])"
      ],
      "metadata": {
        "id": "0v3E5XrvLRBR"
      },
      "execution_count": null,
      "outputs": []
    },
    {
      "cell_type": "code",
      "source": [
        "joined.groupBy(\"movieTitle\").count().sort(\"count\", ascending=False).limit(10).show()"
      ],
      "metadata": {
        "id": "0CMY1ODGE6yY"
      },
      "execution_count": null,
      "outputs": []
    },
    {
      "cell_type": "markdown",
      "source": [
        "# THE BEST RATED MOVIES"
      ],
      "metadata": {
        "id": "4pgENMxrIP0q"
      }
    },
    {
      "cell_type": "code",
      "source": [
        "spark_udata.withColumn(\"rating\", \n",
        "                       f.when(f.col(\"rating\")==1,\"Pesima\").when(f.col(\"rating\")==2,\"Mala\").when(f.col(\"rating\")==3,\"Regular\").\n",
        "                       when(f.col(\"rating\")==4,\"Buena\").when(f.col(\"rating\")==5,\"Excelente\")).show()"
      ],
      "metadata": {
        "id": "nmJnenXrHmPk"
      },
      "execution_count": null,
      "outputs": []
    },
    {
      "cell_type": "code",
      "source": [
        "spark_udata.groupBy(\"itemID\", \"rating\").count().filter(f.col(\"itemID\")==50).show()"
      ],
      "metadata": {
        "id": "UihdhaOCJEgR"
      },
      "execution_count": null,
      "outputs": []
    },
    {
      "cell_type": "markdown",
      "source": [
        "# UDEMY ADVANCE EXAMPLES"
      ],
      "metadata": {
        "id": "dASPMTmLcn0U"
      }
    },
    {
      "cell_type": "code",
      "source": [
        "the_movie = spark_udata.groupBy(\"itemID\").agg(f.count(\"*\").alias(\"ct\")).sort(f.col('ct'), ascending=False).limit(1)"
      ],
      "metadata": {
        "id": "TrSxXm9bNRd2"
      },
      "execution_count": null,
      "outputs": []
    },
    {
      "cell_type": "code",
      "source": [
        "the_movie.join(spark_item, the_movie.itemID == spark_item.movieID).show()\n"
      ],
      "metadata": {
        "id": "M9XwLxJzdipi"
      },
      "execution_count": null,
      "outputs": []
    },
    {
      "cell_type": "markdown",
      "source": [
        "# BROADCAST VARIABLES & UDFs\n"
      ],
      "metadata": {
        "id": "qWUqgOV4fF9x"
      }
    },
    {
      "cell_type": "code",
      "source": [
        "most_popular = [{'movieID': 50, 'movieTitle': 'Star Wars (1977)'},{'movieID': 56, 'movieTitle': 'Pulp Fiction (1994)'}, ]"
      ],
      "metadata": {
        "id": "yTwKoZ21glwd"
      },
      "execution_count": null,
      "outputs": []
    },
    {
      "cell_type": "code",
      "source": [
        "my_var = spark.sparkContext.broadcast(most_popular)"
      ],
      "metadata": {
        "id": "F16Fkd7_iHDS"
      },
      "execution_count": null,
      "outputs": []
    },
    {
      "cell_type": "code",
      "source": [
        "results = spark_udata.groupBy('itemID').count().withColumnRenamed('count', 'total').sort('total', ascending=False).limit(20)"
      ],
      "metadata": {
        "id": "LhCX5AdBiW_a"
      },
      "execution_count": null,
      "outputs": []
    },
    {
      "cell_type": "code",
      "source": [
        "def my_func(idx):\n",
        "  for i in my_var.value:\n",
        "    if i['movieID'] == idx:\n",
        "      return i['movieTitle']\n",
        "  return None\n"
      ],
      "metadata": {
        "id": "j-wphfQI97n1"
      },
      "execution_count": null,
      "outputs": []
    },
    {
      "cell_type": "code",
      "source": [
        "lookup = f.udf(my_func)"
      ],
      "metadata": {
        "id": "qlxOtDnX-FmM"
      },
      "execution_count": null,
      "outputs": []
    },
    {
      "cell_type": "code",
      "source": [
        "results.select('itemID', 'total', lookup(f.col('itemID'))).show()"
      ],
      "metadata": {
        "id": "8OcT5v4F-K2o"
      },
      "execution_count": null,
      "outputs": []
    },
    {
      "cell_type": "code",
      "source": [
        ""
      ],
      "metadata": {
        "id": "yzFndFXr-T73"
      },
      "execution_count": null,
      "outputs": []
    },
    {
      "cell_type": "code",
      "source": [
        ""
      ],
      "metadata": {
        "id": "abOIWAfSA4lW"
      },
      "execution_count": null,
      "outputs": []
    }
  ],
  "metadata": {
    "colab": {
      "name": "IMDB_STATS.ipynb",
      "provenance": []
    },
    "kernelspec": {
      "display_name": "Python 3",
      "name": "python3"
    },
    "language_info": {
      "name": "python"
    }
  },
  "nbformat": 4,
  "nbformat_minor": 0
}